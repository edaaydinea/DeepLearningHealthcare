{
 "cells": [
  {
   "cell_type": "markdown",
   "metadata": {},
   "source": [
    "### 1. What is the Key Difference Between Med2Vec and Word2Vec?\n",
    "- **Contextualization of Medical Data:** Med2Vec is specifically designed for medical data and accounts for the temporal aspect of patient records, focusing on sequences of clinical events (like diagnoses and treatments) over time. In contrast, Word2Vec is a general-purpose model that captures semantic relationships between words based on their context in text, but it doesn't inherently consider the sequential or hierarchical nature of medical records.\n",
    "\n",
    "### 2. What is the Key Difference Between Med2Vec and MiME?\n",
    "- **Hierarchical Representation:** Med2Vec focuses on modeling patient-level data and clinical codes in a hierarchical structure, primarily focusing on visit-level and patient-level representations. MiME (Multilevel Medical Embedding) goes further by incorporating a multi-level hierarchy that includes dependencies from diagnosis to treatments and considers multiple levels (treatment → diagnosis → visit → patient). MiME also introduces auxiliary prediction tasks to enhance the learning of embeddings.\n",
    "\n",
    "### 3. What is NOT True About One-Hot Encoding?\n",
    "(b) **One-hot encoding will group vectors of similar concepts together.**\n",
    "- This statement is NOT true because one-hot encoding creates binary vectors where each category is represented distinctly, without any notion of similarity or distance. Consequently, similar concepts will not be grouped together in the one-hot encoded space.\n",
    "\n",
    "### 4. What is NOT True About Word2Vec?\n",
    "(c) **The denominator $\\sum_{all \\, words(w)} \\exp(v_w \\cdot v_t)$ in $p(c|t)$ can be easily computed for Skip-gram.**\n",
    "- This statement is NOT true because computing the denominator in the Skip-gram model can be computationally expensive, especially when dealing with large vocabularies, which makes it challenging to efficiently calculate $p(c|t)$.\n",
    "\n",
    "### 5. Which of the Following is NOT a Suitable Medical Application of Word2Vec?\n",
    "(d) **Visualization: to directly visualize the word2vec embeddings of medical concepts in order to understand the relationship among medical concepts.**\n",
    "- While you can visualize embeddings, the statement is misleading as direct visualization of high-dimensional embeddings (like those produced by Word2Vec) without dimensionality reduction (like PCA or t-SNE) can be challenging and may not accurately reflect relationships.\n",
    "\n",
    "### 6. What are the Challenges in Visualizing High-Dimensional Data? (Multiple Correct Answers)\n",
    "- (a) **To preserve the relationship of original data when visualizing in 2D space.**\n",
    "- (b) **To ensure similar data points are mapped to nearby locations in 2D space.**\n",
    "- (c) **To provide computationally efficient methods to produce the visualization.**\n",
    "- (d) **To produce aesthetically pleasing effects when visualizing the data.**\n",
    "- All options (a), (b), (c), and (d) are challenges in visualizing high-dimensional data.\n",
    "\n",
    "### 7. Which Statement is NOT True Comparing PCA and t-SNE?\n",
    "(d) **t-SNE is computationally more efficient than PCA.**\n",
    "- This statement is NOT true because PCA is generally more computationally efficient than t-SNE. PCA uses linear transformations, making it faster for large datasets, while t-SNE's optimization process for preserving local structures involves more complex computations, which can be slow.\n",
    "\n",
    "### 8. Which is NOT True About the Med2Vec Method?\n",
    "(b) **Med2Vec is most suitable to model clinical notes.**\n",
    "- This statement is NOT true. Med2Vec is specifically designed to model sequences of clinical codes and patient data rather than clinical notes, which involve free-text data. \n",
    "\n",
    "### 9. Which is NOT True About MiME: Multilevel Medical Embedding Method?\n",
    "(d) **It provides a direct and intuitive interpretation for each prediction.**\n",
    "- This statement is NOT true. While MiME models complex relationships in EHR data and can improve prediction accuracy, it does not inherently provide direct and intuitive interpretations of its predictions due to the complexity of the embedding models.\n"
   ]
  }
 ],
 "metadata": {
  "language_info": {
   "name": "python"
  }
 },
 "nbformat": 4,
 "nbformat_minor": 2
}
