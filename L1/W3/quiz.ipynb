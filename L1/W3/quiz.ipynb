{
 "cells": [
  {
   "cell_type": "code",
   "execution_count": 2,
   "metadata": {},
   "outputs": [
    {
     "name": "stdout",
     "output_type": "stream",
     "text": [
      "1000 65 55 845 835\n"
     ]
    }
   ],
   "source": [
    "# Fill in the Blanks in this order: Total Population, Condition Positive, True Positive, Prediction Outcome Negative, True Negative. Please write the numbers separated by spaces.\n",
    "\n",
    "condition_negative = 935\n",
    "false_positive = 100\n",
    "false_negative = 10 \n",
    "prediction_outcome_positive = 155\n",
    "\n",
    "# true negative = condition negative - false positive\n",
    "# 935 - 100 = 835\n",
    "true_negative = condition_negative - false_positive\n",
    "\n",
    "# prediction outcome negative = true negative + false negative\n",
    "# 835 + 10 = 845\n",
    "prediction_outcome_negative = true_negative + false_negative\n",
    "\n",
    "# prediction outcome positive = true positive + false positive\n",
    "# 155 - 100 = 55\n",
    "true_positive = prediction_outcome_positive - false_positive\n",
    "\n",
    "# condition positive = true positive + false negative\n",
    "# 55 + 10 = 65\n",
    "condition_positive = true_positive + false_negative\n",
    "\n",
    "# total population = condition positive + condition negative\n",
    "# 65 + 935 = 1000\n",
    "total_population = condition_positive + condition_negative\n",
    "\n",
    "print(total_population, condition_positive, true_positive, prediction_outcome_negative, true_negative)"
   ]
  },
  {
   "cell_type": "code",
   "execution_count": 5,
   "metadata": {},
   "outputs": [
    {
     "name": "stdout",
     "output_type": "stream",
     "text": [
      "84 10 15 89\n"
     ]
    }
   ],
   "source": [
    "# Fill in the blanks in this order: True Positive Rate, False Positive Rate, False Negative Rate, True Negative Rate. The answers should be given as whole numbers in percent, without the percent sign. Please write the numbers in a sequence separated by spaces.\n",
    "\n",
    "true_positive_rate = (true_positive / (true_positive + false_negative)) * 100\n",
    "false_positive_rate = (false_positive / (true_negative + false_positive)) * 100\n",
    "false_negative_rate = (false_negative / (false_negative + true_positive)) * 100\n",
    "true_negative_rate = (true_negative / (true_negative + false_positive)) * 100\n",
    "\n",
    "print(int(true_positive_rate), int(false_positive_rate), int(false_negative_rate), int(true_negative_rate) )"
   ]
  }
 ],
 "metadata": {
  "kernelspec": {
   "display_name": "Python 3",
   "language": "python",
   "name": "python3"
  },
  "language_info": {
   "codemirror_mode": {
    "name": "ipython",
    "version": 3
   },
   "file_extension": ".py",
   "mimetype": "text/x-python",
   "name": "python",
   "nbconvert_exporter": "python",
   "pygments_lexer": "ipython3",
   "version": "3.12.5"
  }
 },
 "nbformat": 4,
 "nbformat_minor": 2
}
